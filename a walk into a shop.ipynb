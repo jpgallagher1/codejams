{
 "cells": [
  {
   "cell_type": "code",
   "execution_count": 12,
   "metadata": {
    "collapsed": false
   },
   "outputs": [],
   "source": [
    "import os\n",
    "\n"
   ]
  },
  {
   "cell_type": "markdown",
   "metadata": {},
   "source": [
    "Problem\n",
    "\n",
    "You receive a credit C at a local store and would like to buy two items. \n",
    "\n",
    "You first walk through the store and create a list L of all available items. \n",
    "\n",
    "From this list you would like to buy two items that add up to the entire value of the credit. \n",
    "\n",
    "The solution you provide will consist of the two integers indicating the positions of the items in your list (smaller number first).\n",
    "\n",
    "Input\n",
    "\n",
    "The first line of input gives the number of cases, N. N test cases follow. For each test case there will be:\n",
    "\n",
    "One line containing the value C, the amount of credit you have at the store.\n",
    "One line containing the value I, the number of items in the store.\n",
    "One line containing a space separated list of I integers. Each integer P indicates the price of an item in the store.\n",
    "Each test case will have exactly one solution.\n",
    "Output\n",
    "\n",
    "N:\n",
    "\n",
    "C\n",
    "\n",
    "I\n",
    "\n",
    "P P P\n",
    "\n",
    "\n",
    "For each test case, output one line containing \"Case #x: \" followed by the indices of the two items whose price adds up to the store credit. The lower index should be output first.\n",
    "\n",
    "Limits\n",
    "\n",
    "5 ≤ C ≤ 1000\n",
    "1 ≤ P ≤ 1000"
   ]
  },
  {
   "cell_type": "code",
   "execution_count": 2,
   "metadata": {
    "collapsed": false
   },
   "outputs": [],
   "source": [
    "## have a list of numbers and a total. find the two numbers that solve\n",
    "## example : \n",
    "#200\n",
    "#7\n",
    "#150 24 79 50 88 345 3\n",
    "\n"
   ]
  },
  {
   "cell_type": "code",
   "execution_count": 6,
   "metadata": {
    "collapsed": false,
    "scrolled": false
   },
   "outputs": [
    {
     "ename": "NameError",
     "evalue": "name 'costexample' is not defined",
     "output_type": "error",
     "traceback": [
      "\u001b[0;31m---------------------------------------------------------------------------\u001b[0m",
      "\u001b[0;31mNameError\u001b[0m                                 Traceback (most recent call last)",
      "\u001b[0;32m<ipython-input-6-52f62f39e6a3>\u001b[0m in \u001b[0;36m<module>\u001b[0;34m()\u001b[0m\n\u001b[1;32m     43\u001b[0m \u001b[0;34m\u001b[0m\u001b[0m\n\u001b[1;32m     44\u001b[0m \u001b[0;34m\u001b[0m\u001b[0m\n\u001b[0;32m---> 45\u001b[0;31m \u001b[0;32mprint\u001b[0m\u001b[0;34m(\u001b[0m\u001b[0mletsbringithome\u001b[0m\u001b[0;34m(\u001b[0m\u001b[0mcostexample\u001b[0m\u001b[0;34m,\u001b[0m \u001b[0mpricelistexample\u001b[0m\u001b[0;34m)\u001b[0m\u001b[0;34m)\u001b[0m\u001b[0;34m\u001b[0m\u001b[0m\n\u001b[0m\u001b[1;32m     46\u001b[0m \u001b[0;34m\u001b[0m\u001b[0m\n\u001b[1;32m     47\u001b[0m \u001b[0;34m\u001b[0m\u001b[0m\n",
      "\u001b[0;31mNameError\u001b[0m: name 'costexample' is not defined"
     ]
    }
   ],
   "source": [
    "\n",
    "        \n",
    "### requires list, takes input of cost, determines indecies of prices to match        \n",
    "def letsbringithome(cost, pricelist):\n",
    "    ## subtract all numbers from price\n",
    "    compliment = []\n",
    "    for each in pricelist:\n",
    "        creditdifference = cost - each\n",
    "        for x in pricelist:\n",
    "            if creditdifference == x and x not in compliment:\n",
    "                compliment.append(x)\n",
    "            else:\n",
    "                pass\n",
    "    idxcomp = []\n",
    "    for compliments in compliment:\n",
    "        indexofcompliments = pricelist.index(compliments)\n",
    "        idxcomp.append(indexofcompliments)\n",
    "    ### if the two numbers that add up are identical:    \n",
    "    if len(idxcomp) == 1:\n",
    "        ### get the index of the number\n",
    "        duplicateidx = idxcomp[0]\n",
    "        sliceat = duplicateidx + 1\n",
    "        ### get n such that 2n = credit\n",
    "        complimenttofind = pricelist[duplicateidx]\n",
    "        ### slice list from duplicate on\n",
    "        pricefromduplicate = pricelist[sliceat:]\n",
    "        ### find the index of next n\n",
    "        nextduplicate = pricefromduplicate.index(complimenttofind)\n",
    "        ### since we started from 0 in the new index\n",
    "        ### and this was continuation, index of first n, + 1 + index of found n\n",
    "        indexofnextduplicate = duplicateidx + 1 + nextduplicate\n",
    "        ### append to index of compliment list\n",
    "        idxcomp.append(indexofnextduplicate)\n",
    "        ### duplicate n\n",
    "        compliment.append(complimenttofind)\n",
    "        return idxcomp\n",
    "    if compliment[0] > compliment[1]:\n",
    "        return idxcomp[::-1]\n",
    "    if compliment[0] < compliment[1]:\n",
    "        return idxcomp\n",
    "    #YAY\n",
    "\n",
    "        \n",
    "        "
   ]
  },
  {
   "cell_type": "code",
   "execution_count": 18,
   "metadata": {
    "collapsed": false
   },
   "outputs": [
    {
     "name": "stdout",
     "output_type": "stream",
     "text": [
      "case #1: 2 1\n",
      "case #2: 3 0\n",
      "case #3: 3 4\n",
      "case #4: 28 45\n",
      "case #5: 10 55\n",
      "case #6: 4 3\n",
      "case #7: 39 45\n",
      "case #8: 15 34\n",
      "case #9: 54 73\n",
      "case #10: 6 8\n",
      "None\n"
     ]
    }
   ],
   "source": [
    "import re\n",
    "\n",
    "##formating a line of text into a list\n",
    "\n",
    "inputfile = \"input.txt\"\n",
    "\n",
    "##\\n is new line\n",
    "##anything after \\n should be in an array/list\n",
    "\n",
    "def textformatter(inputtextfile):\n",
    "    input = open(inputtextfile, \"r\")\n",
    "    inputlist = []\n",
    "    for line in input:\n",
    "        inputlist.append(line)\n",
    "\n",
    "    iterlist = {} \n",
    "    itercount = 0\n",
    "    for item in inputlist:\n",
    "        item = item.rstrip(\"\\n\")\n",
    "        iterlist[itercount]= item\n",
    "        itercount = itercount +1\n",
    "    return iterlist\n",
    "\n",
    "\n",
    "\n",
    "\n",
    "def solver(inputfile):\n",
    "    listedtext = textformatter(inputfile)\n",
    "    listedtext = listedtext.items()\n",
    "    i = 0\n",
    "    for k, v in iterlist.items():\n",
    "        if k % 3 == 1:\n",
    "            case = \"case#\"+str(i) + \": \"\n",
    "            vint = int(v)\n",
    "            credit = vint\n",
    "            i = 1 + i\n",
    "        if k % 3 == 2:\n",
    "            pass #print \"number of items = \" + v\n",
    "        if k % 3 == 0 and k != 0:\n",
    "            new = re.findall(r\"[\\w']+\", v) \n",
    "            new2 = map(int, new)\n",
    "            result = letsbringithome(credit, new2)\n",
    "            resultstr = []\n",
    "            for x in result:\n",
    "                resultstr.append(str(x))\n",
    "            resultstring = \" \".join(resultstr)\n",
    "            solved = \"case #\" + str(i) + \":\" + \" \" + resultstring\n",
    "            print(solved)\n",
    "        else:\n",
    "            pass\n",
    "        \n",
    "print (solver(inputfile))"
   ]
  },
  {
   "cell_type": "code",
   "execution_count": null,
   "metadata": {
    "collapsed": false
   },
   "outputs": [],
   "source": []
  },
  {
   "cell_type": "code",
   "execution_count": 29,
   "metadata": {
    "collapsed": false
   },
   "outputs": [
    {
     "name": "stdout",
     "output_type": "stream",
     "text": [
      "0\n"
     ]
    }
   ],
   "source": []
  },
  {
   "cell_type": "code",
   "execution_count": null,
   "metadata": {
    "collapsed": true
   },
   "outputs": [],
   "source": []
  }
 ],
 "metadata": {
  "kernelspec": {
   "display_name": "Python 2",
   "language": "python",
   "name": "python2"
  },
  "language_info": {
   "codemirror_mode": {
    "name": "ipython",
    "version": 2
   },
   "file_extension": ".py",
   "mimetype": "text/x-python",
   "name": "python",
   "nbconvert_exporter": "python",
   "pygments_lexer": "ipython2",
   "version": "2.7.11"
  }
 },
 "nbformat": 4,
 "nbformat_minor": 0
}
