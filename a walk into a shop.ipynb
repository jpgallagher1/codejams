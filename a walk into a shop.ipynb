{
 "cells": [
  {
   "cell_type": "code",
   "execution_count": 12,
   "metadata": {
    "collapsed": false
   },
   "outputs": [],
   "source": [
    "import os\n",
    "\n"
   ]
  },
  {
   "cell_type": "markdown",
   "metadata": {},
   "source": [
    "Problem\n",
    "\n",
    "You receive a credit C at a local store and would like to buy two items. \n",
    "\n",
    "You first walk through the store and create a list L of all available items. \n",
    "\n",
    "From this list you would like to buy two items that add up to the entire value of the credit. \n",
    "\n",
    "The solution you provide will consist of the two integers indicating the positions of the items in your list (smaller number first).\n",
    "\n",
    "Input\n",
    "\n",
    "The first line of input gives the number of cases, N. N test cases follow. For each test case there will be:\n",
    "\n",
    "One line containing the value C, the amount of credit you have at the store.\n",
    "One line containing the value I, the number of items in the store.\n",
    "One line containing a space separated list of I integers. Each integer P indicates the price of an item in the store.\n",
    "Each test case will have exactly one solution.\n",
    "Output\n",
    "\n",
    "N:\n",
    "\n",
    "C\n",
    "\n",
    "I\n",
    "\n",
    "P P P\n",
    "\n",
    "\n",
    "For each test case, output one line containing \"Case #x: \" followed by the indices of the two items whose price adds up to the store credit. The lower index should be output first.\n",
    "\n",
    "Limits\n",
    "\n",
    "5 ≤ C ≤ 1000\n",
    "1 ≤ P ≤ 1000"
   ]
  },
  {
   "cell_type": "code",
   "execution_count": 65,
   "metadata": {
    "collapsed": false
   },
   "outputs": [
    {
     "name": "stdout",
     "output_type": "stream",
     "text": [
      "[50, 176, 121, 150, 112, -145, 197]\n",
      "[100, 152, 42, 100, 24, 490, 194]\n",
      "[[True], [False], [False], [True], [False], [False], [False]]\n",
      "[True, False, False, True, False, False, False]\n",
      "[3, 0]\n"
     ]
    }
   ],
   "source": [
    "## have a list of numbers and a total. find the two numbers that solve\n",
    "## example : \n",
    "#200\n",
    "#7\n",
    "#150 24 79 50 88 345 3\n",
    "\n",
    "from operator import sub\n",
    "costexample = [200]\n",
    "numberofitemsexample = [8]\n",
    "pricelistexample = [150, 24, 79, 50, 88, 345, 3]\n",
    "\n",
    "templist = []\n",
    "temp2 = []\n",
    "\n",
    "## subtract all numbers from price\n",
    "\n",
    "for each in pricelistexample:\n",
    "    templist.append(costexample[0] - each)\n",
    "print templist\n",
    "\n",
    "##subtract new price list from original pricelist\n",
    "##NO BRUTE FORCE!\n",
    "import operator\n",
    "pricesub = map(sub, templist, pricelistexample)\n",
    "\n",
    "for x in pricesub:\n",
    "    x = abs(x)\n",
    "    temp2.append(x)\n",
    "print(temp2)\n",
    "\n",
    "##find the indices of the equivalent prices\n",
    "\n",
    "\n",
    "correctpriceset = set([x for x in temp2 if temp2.count(x) > 1])\n",
    "\n",
    "\n",
    "##check which position duplicate is in\n",
    "\n",
    "boolist = [[x in correctpriceset] for x in temp2]\n",
    "flattendbool = []\n",
    "print(boolist)\n",
    "\n",
    "flatbool = [val for sublist in boolist for val in sublist]\n",
    "print(flatbool)\n",
    "\n",
    "\n",
    "for idx, val in enumerate(flatbool):\n",
    "    if val == True:\n",
    "        priceindex = pricelistexample[idx]\n",
    "        \n",
    "def sorter(intlist, intlist2):\n",
    "    if len(intlist) > 2:\n",
    "        print (\"DANGER WILL ROBINSON, DANGER!\")\n",
    "    if intlist[0] < intlist[1]:\n",
    "        return\n",
    "    if intlist[0] > intlist[1]:\n",
    "        return intlist2.reverse()\n",
    "    else:\n",
    "        return\n",
    "        \n",
    "### requires list, takes input of cost, determines indecies of prices to match        \n",
    "def letsbringithome(cost, pricelist):\n",
    "    ## subtract all numbers from price\n",
    "    complimentcosts = []\n",
    "    for each in pricelist:\n",
    "        complimentcosts.append(cost[0] - each)\n",
    "    ##subtract new price list from original pricelist\n",
    "    ##NO BRUTE FORCE!\n",
    "    from operator import sub\n",
    "    pricesub = map(sub, complimentcosts, pricelist)\n",
    "    complimento = []\n",
    "    for x in pricesub:\n",
    "        ##finding equivalent values gives us our two items to buy\n",
    "        x = abs(x)\n",
    "        complimento.append(x)\n",
    "    ##finding duplicates\n",
    "    correctpriceset = set([x for x in complimento if complimento.count(x) > 1])\n",
    "    ##making it bool so we can universally find any two compliments\n",
    "    boolist = [[x in correctpriceset] for x in complimento]\n",
    "    ## flatten like a pancake\n",
    "    flatbool = [val for sublist in boolist for val in sublist]\n",
    "    indexlist = []\n",
    "    indexlist2 = []\n",
    "    for idx, val in enumerate(flatbool):\n",
    "        if val == True:\n",
    "            indexlist.append(pricelistexample[idx])\n",
    "            indexlist2.append(idx)\n",
    "    if indexlist[0] > indexlist[1]:\n",
    "        return indexlist2[::-1]\n",
    "    #YAY\n",
    "    \n",
    "    \n",
    "\n",
    "print(letsbringithome(costexample, pricelistexample))\n",
    "\n",
    "        \n",
    "        "
   ]
  },
  {
   "cell_type": "code",
   "execution_count": 41,
   "metadata": {
    "collapsed": false
   },
   "outputs": [],
   "source": [
    "##formating a line of text into a list\n",
    "\n",
    "input = open(\"input.txt\", \"r\")\n",
    "\n",
    "linecount = 0\n",
    "linecontentlist = []\n",
    "\n",
    "def linegrabber(input):\n",
    "    for line in input:\n",
    "        linecontentlist.append(line)\n",
    "    n = linecontentlist[0]\n",
    "\n",
    "linetotal = 0\n",
    "for x in linecontentlist:\n",
    "    linetotal = linetotal + 1  \n",
    "    \n",
    "def linesolver(contentlist):\n",
    "    index = 0\n",
    "    if index < (linetotal-1):\n",
    "        return \"case#\" + contentindex[index] + \":\"\n",
    "    \n"
   ]
  },
  {
   "cell_type": "code",
   "execution_count": 42,
   "metadata": {
    "collapsed": false
   },
   "outputs": [],
   "source": [
    "##figure out how \"cases\" are spread out"
   ]
  },
  {
   "cell_type": "code",
   "execution_count": 29,
   "metadata": {
    "collapsed": false
   },
   "outputs": [
    {
     "name": "stdout",
     "output_type": "stream",
     "text": [
      "0\n"
     ]
    }
   ],
   "source": []
  },
  {
   "cell_type": "code",
   "execution_count": null,
   "metadata": {
    "collapsed": true
   },
   "outputs": [],
   "source": []
  }
 ],
 "metadata": {
  "kernelspec": {
   "display_name": "Python 2",
   "language": "python",
   "name": "python2"
  },
  "language_info": {
   "codemirror_mode": {
    "name": "ipython",
    "version": 2
   },
   "file_extension": ".py",
   "mimetype": "text/x-python",
   "name": "python",
   "nbconvert_exporter": "python",
   "pygments_lexer": "ipython2",
   "version": "2.7.11"
  }
 },
 "nbformat": 4,
 "nbformat_minor": 0
}
