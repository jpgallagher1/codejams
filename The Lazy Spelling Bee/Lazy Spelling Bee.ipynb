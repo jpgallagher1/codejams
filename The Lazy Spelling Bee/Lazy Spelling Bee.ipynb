{
 "cells": [
  {
   "cell_type": "markdown",
   "metadata": {
    "collapsed": true
   },
   "source": [
    "# Problem\n",
    "\n",
    "## In the Lazy Spelling Bee, a contestant is given a target word W to spell. \n",
    "\n",
    "## The contestant's answer word A is acceptable if it is the same length as the target word, \n",
    "\n",
    "## and the i-th letter of A is either the i-th, (i-1)th, or (i+1)th letter of W, for all i in the range of the length of A. \n",
    "\n",
    "## (The first letter of A must match either the first or second letter of W, since the 0th letter of W doesn't exist. Similarly, the last letter of A must match either the last or next-to-last letter of W.) \n",
    "\n",
    "## Note that the target word itself is always an acceptable answer word.\n",
    "\n",
    "## You are preparing a Lazy Spelling Bee, and you have been asked to determine, for each target word, how many distinct acceptable answer words there are. Since this number may be very large, please output it modulo 1000000007 (109 + 7).\n",
    "\n"
   ]
  },
  {
   "cell_type": "markdown",
   "metadata": {},
   "source": [
    "## In the Lazy Spelling Bee, a contestant is given a target word W to spell. "
   ]
  },
  {
   "cell_type": "code",
   "execution_count": 34,
   "metadata": {},
   "outputs": [
    {
     "name": "stdout",
     "output_type": "stream",
     "text": [
      "['b' 'gjec' 'a' 'albgl' 'wkafd' 'tnkaf' 'oso' 'o' 'fg' 'hbsc' 'ababa'\n 'debbd' 'abdbd' 'aaaaa' 'aiabc' 'baq' 'opc' 'kc' 'abba' 'oafmg' 'mn'\n 'abbab' 'aggec' 'eeadb' 'octqq' 'drf' 'e' 'ekmi' 'fkiki' 'i' 'afhdd'\n 'caggc' 'byl' 'jfne' 'fal' 'cc' 'aaaaa' 'bbaab' 'abaab' 'bvoc' 'hbegd'\n 'bbaaa' 'slnja' 'aacef' 'j' 'lyktc' 'imbp' 'cadbb' 'hgfh' 'adddc' 'ee'\n 'lliee' 'vgtti' 'aaaaa' 'acdcc' 'aaaaa' 'b' 'bbaba' 'aaaaa' 'qek' 'cadec'\n 'bbacb' 'bgfdg' 'cdhgb' 'sokii' 'cbbba' 'iggba' 'bcaac' 'fdccb' 'iic'\n 'lknyn' 'lp' 'ikips' 'es' 'aa' 'hbh' 'dpw' 'dgfcb' 'grmj' 'hjgfh' 'qnfun'\n 'm' 'ka' 'baaab' 'ljnmm' 'aabbb' 'm' 'hmncl' 'iajfj' 'lf' 'aaacc' 'aaaaa'\n 'fbcq' 'r' 'fbbad' 'babab' 'abcac' 'gcadc' 'aabba' 'aaabb']\n"
     ]
    }
   ],
   "source": [
    "import numpy as np\n",
    "f = '/Users/Dylan/Dropbox/codejams/lazyspelling.txt'\n",
    "w = np.loadtxt(f, dtype='string')\n",
    "w = w[1:]\n",
    "print w"
   ]
  },
  {
   "cell_type": "markdown",
   "metadata": {},
   "source": [
    "## The contestant's answer word A is acceptable if it is the same length as the target word,"
   ]
  },
  {
   "cell_type": "code",
   "execution_count": 77,
   "metadata": {},
   "outputs": [
    {
     "name": "stdout",
     "output_type": "stream",
     "text": [
      "['abc', 'bcd', 'cde']\n"
     ]
    }
   ],
   "source": [
    "# finding possible middle letters\n",
    "\n",
    "sample = 'abcde'\n",
    "i = 1\n",
    "out = []\n",
    "while i < len(sample)-1:\n",
    "    out.append(sample[i-1]+sample[i]+sample[i+1])\n",
    "    i += 1\n",
    "print out"
   ]
  },
  {
   "cell_type": "code",
   "execution_count": 71,
   "metadata": {},
   "outputs": [
    {
     "name": "stdout",
     "output_type": "stream",
     "text": [
      "cde\n"
     ]
    }
   ],
   "source": [
    "# first letter can only have 2 possible choices\n",
    "# last letter can only have 2 possible choices"
   ]
  },
  {
   "cell_type": "code",
   "execution_count": null,
   "metadata": {},
   "outputs": [],
   "source": [
    "def fib2(n):\n",
    "    if n == 0:\n",
    "        return 0\n",
    "    # create array for solutns of length n\n",
    "    # this is our initialization\n",
    "    fibarr = [x for x in xrange(0, n+1)]\n",
    "    # create new assignments by index\n",
    "    fibarr[0] = 0\n",
    "    fibarr[1] = 1\n",
    "    #  create new assignments by index\n",
    "    for i in range(2, n+1):\n",
    "        fibarr[i] = fibarr[i-1] + fibarr[i-2]\n",
    "    return fibarr[n]"
   ]
  }
 ],
 "metadata": {
  "kernelspec": {
   "display_name": "Python 2",
   "language": "python",
   "name": "python2"
  },
  "language_info": {
   "codemirror_mode": {
    "name": "ipython",
    "version": 2.0
   },
   "file_extension": ".py",
   "mimetype": "text/x-python",
   "name": "python",
   "nbconvert_exporter": "python",
   "pygments_lexer": "ipython2",
   "version": "2.7.6"
  }
 },
 "nbformat": 4,
 "nbformat_minor": 0
}