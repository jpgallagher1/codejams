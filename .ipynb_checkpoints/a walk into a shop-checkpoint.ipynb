{
 "cells": [
  {
   "cell_type": "code",
   "execution_count": 12,
   "metadata": {
    "collapsed": false
   },
   "outputs": [],
   "source": [
    "import os\n",
    "\n"
   ]
  },
  {
   "cell_type": "markdown",
   "metadata": {},
   "source": [
    "Problem\n",
    "\n",
    "You receive a credit C at a local store and would like to buy two items. \n",
    "\n",
    "You first walk through the store and create a list L of all available items. \n",
    "\n",
    "From this list you would like to buy two items that add up to the entire value of the credit. \n",
    "\n",
    "The solution you provide will consist of the two integers indicating the positions of the items in your list (smaller number first).\n",
    "\n",
    "Input\n",
    "\n",
    "The first line of input gives the number of cases, N. N test cases follow. For each test case there will be:\n",
    "\n",
    "One line containing the value C, the amount of credit you have at the store.\n",
    "One line containing the value I, the number of items in the store.\n",
    "One line containing a space separated list of I integers. Each integer P indicates the price of an item in the store.\n",
    "Each test case will have exactly one solution.\n",
    "Output\n",
    "\n",
    "N:\n",
    "\n",
    "C\n",
    "\n",
    "I\n",
    "\n",
    "P P P\n",
    "\n",
    "\n",
    "For each test case, output one line containing \"Case #x: \" followed by the indices of the two items whose price adds up to the store credit. The lower index should be output first.\n",
    "\n",
    "Limits\n",
    "\n",
    "5 ≤ C ≤ 1000\n",
    "1 ≤ P ≤ 1000"
   ]
  },
  {
   "cell_type": "code",
   "execution_count": 8,
   "metadata": {
    "collapsed": false
   },
   "outputs": [
    {
     "name": "stdout",
     "output_type": "stream",
     "text": [
      "Counter({50: 2, 3: 1, 79: 1, 88: 1, 150: 1, 24: 1, 345: 1})\n",
      "[4]\n",
      "[50, 176, 121, 150, 150, 112, -145, 197]\n",
      "[50, 150]\n",
      "[3, 0]\n",
      "[3, 4, 5, 6]\n"
     ]
    }
   ],
   "source": [
    "## have a list of numbers and a total. find the two numbers that solve\n",
    "## example : \n",
    "#200\n",
    "#7\n",
    "#150 24 79 50 88 345 3\n",
    "\n",
    "from operator import sub\n",
    "costexample = 200\n",
    "numberofitemsexample = [8]\n",
    "pricelistexample = [150, 24, 79, 50, 50, 88, 345, 3]\n",
    "\n",
    "\n",
    "import collections\n",
    "dupcounter = collections.Counter(pricelistexample)\n",
    "print(dupcounter)\n",
    "indexcount = 0\n",
    "\n",
    "\n",
    "def indexofduplicate(pricelist):\n",
    "    enumeratedlist = enumerate(pricelist)\n",
    "    seen = set()\n",
    "    result = []\n",
    "    for idx, item in enumerate(pricelist):\n",
    "        if item not in seen:\n",
    "            seen.add(item)\n",
    "        else:\n",
    "            result.append(idx)\n",
    "    return result\n",
    "            \n",
    "\n",
    "print(indexofduplicate(pricelistexample))\n",
    "\n",
    "    \n",
    "\n",
    "templist = []\n",
    "temp2 = []\n",
    "\n",
    "## subtract all numbers from price\n",
    "\n",
    "for each in pricelistexample:\n",
    "    templist.append(costexample - each)\n",
    "    \n",
    "print templist\n",
    "\n",
    "\n",
    "### subtract cost from credit. see if any other in list is equivalent. if already in list, ignore. ignores duplicates\n",
    "\n",
    "\n",
    "compliment = []\n",
    "for each in pricelistexample:\n",
    "    creditdifference = costexample - each\n",
    "    for x in pricelistexample:\n",
    "        if creditdifference == x and x not in compliment:\n",
    "            compliment.append(x)\n",
    "        else:\n",
    "            pass\n",
    "print(compliment)\n",
    "\n",
    "idxcomp = []\n",
    "for compliments in compliment:\n",
    "    indexofcompliments = pricelistexample.index(compliments)\n",
    "    idxcomp.append(indexofcompliments)\n",
    "\n",
    "print(idxcomp)\n",
    "\n",
    "testlist = [1,2,3,4,5,6]\n",
    "print(testlist[2:])\n"
   ]
  },
  {
   "cell_type": "code",
   "execution_count": 17,
   "metadata": {
    "collapsed": false,
    "scrolled": false
   },
   "outputs": [
    {
     "name": "stdout",
     "output_type": "stream",
     "text": [
      "[3, 0]\n"
     ]
    }
   ],
   "source": [
    "\n",
    "\n",
    "\n",
    "def sorter(intlist, intlist2):\n",
    "    if len(intlist) > 2:\n",
    "        print (\"DANGER WILL ROBINSON, DANGER!\")\n",
    "    if intlist[0] < intlist[1]:\n",
    "        return\n",
    "    if intlist[0] > intlist[1]:\n",
    "        return intlist2.reverse()\n",
    "    else:\n",
    "        return\n",
    "        \n",
    "### requires list, takes input of cost, determines indecies of prices to match        \n",
    "def letsbringithome(cost, pricelist):\n",
    "    ## subtract all numbers from price\n",
    "    compliment = []\n",
    "    for each in pricelist:\n",
    "        creditdifference = cost - each\n",
    "        for x in pricelist:\n",
    "            if creditdifference == x and x not in compliment:\n",
    "                compliment.append(x)\n",
    "            else:\n",
    "                pass\n",
    "    idxcomp = []\n",
    "    for compliments in compliment:\n",
    "        indexofcompliments = pricelist.index(compliments)\n",
    "        idxcomp.append(indexofcompliments)\n",
    "    ### if the two numbers that add up are identical:    \n",
    "    if len(idxcomp) == 1:\n",
    "        ### get the index of the number\n",
    "        duplicateidx = idxcomp[0]\n",
    "        sliceat = duplicateidx + 1\n",
    "        ### get n such that 2n = credit\n",
    "        complimenttofind = pricelist[duplicateidx]\n",
    "        ### slice list from duplicate on\n",
    "        pricefromduplicate = pricelist[sliceat:]\n",
    "        ### find the index of next n\n",
    "        nextduplicate = pricefromduplicate.index(complimenttofind)\n",
    "        ### since we started from 0 in the new index\n",
    "        ### and this was continuation, index of first n, + 1 + index of found n\n",
    "        indexofnextduplicate = duplicateidx + 1 + nextduplicate\n",
    "        ### append to index of compliment list\n",
    "        idxcomp.append(indexofnextduplicate)\n",
    "        ### duplicate n\n",
    "        compliment.append(complimenttofind)\n",
    "        return idxcomp\n",
    "    if compliment[0] > compliment[1]:\n",
    "        return idxcomp[::-1]\n",
    "    if compliment[0] < compliment[1]:\n",
    "        return idxcomp\n",
    "    #YAY\n",
    "    \n",
    "    \n",
    "\n",
    "print(letsbringithome(costexample, pricelistexample))\n",
    "\n",
    "        \n",
    "        "
   ]
  },
  {
   "cell_type": "code",
   "execution_count": 68,
   "metadata": {
    "collapsed": false
   },
   "outputs": [
    {
     "name": "stdout",
     "output_type": "stream",
     "text": [
      "\n",
      "case #1: 2 1\n",
      "case #2: 3 0\n",
      "case #3: 3 4\n",
      "case #4: 28 45\n",
      "case #5: 10 55\n",
      "case #6: 4 3\n",
      "case #7: 39 45\n",
      "case #8: 15 34\n",
      "case #9: 54 73\n",
      "case #10: 6 8\n"
     ]
    }
   ],
   "source": [
    "##formating a line of text into a list\n",
    "\n",
    "input = open(\"input.txt\", \"r\")\n",
    "\n",
    "##\\n is new line\n",
    "##anything after \\n should be in an array/list\n",
    "\n",
    "\n",
    "inputlist = []\n",
    "for line in input:\n",
    "    inputlist.append(line)\n",
    "\n",
    "iterlist = {} \n",
    "itercount = 0\n",
    "for item in inputlist:\n",
    "    item = item.rstrip(\"\\n\")\n",
    "    iterlist[itercount]= item\n",
    "    itercount = itercount +1\n",
    "\n",
    "\n",
    "import re\n",
    "\n",
    "i = 0\n",
    "for k, v in iterlist.items():\n",
    "    if k == 0:\n",
    "        print \"\"\n",
    "    if k % 3 == 1:\n",
    "        case = \"case#\"+str(i) + \": \"\n",
    "        vint = int(v)\n",
    "        credit = vint\n",
    "        i = 1 + i\n",
    "    if k % 3 == 2:\n",
    "        pass #print \"number of items = \" + v\n",
    "    if k % 3 == 0 and k != 0:\n",
    "        new = re.findall(r\"[\\w']+\", v) \n",
    "        new2 = map(int, new)\n",
    "        result = letsbringithome(credit, new2)\n",
    "        resultstr = []\n",
    "        for x in result:\n",
    "            resultstr.append(str(x))\n",
    "        resultstring = \" \".join(resultstr)\n",
    "        print \"case #\" + str(i) + \":\" + \" \" + resultstring\n",
    "    else:\n",
    "        pass\n",
    "\n",
    "        \n"
   ]
  },
  {
   "cell_type": "code",
   "execution_count": null,
   "metadata": {
    "collapsed": false
   },
   "outputs": [],
   "source": []
  },
  {
   "cell_type": "code",
   "execution_count": 29,
   "metadata": {
    "collapsed": false
   },
   "outputs": [
    {
     "name": "stdout",
     "output_type": "stream",
     "text": [
      "0\n"
     ]
    }
   ],
   "source": []
  },
  {
   "cell_type": "code",
   "execution_count": null,
   "metadata": {
    "collapsed": true
   },
   "outputs": [],
   "source": []
  }
 ],
 "metadata": {
  "kernelspec": {
   "display_name": "Python 2",
   "language": "python",
   "name": "python2"
  },
  "language_info": {
   "codemirror_mode": {
    "name": "ipython",
    "version": 2
   },
   "file_extension": ".py",
   "mimetype": "text/x-python",
   "name": "python",
   "nbconvert_exporter": "python",
   "pygments_lexer": "ipython2",
   "version": "2.7.11"
  }
 },
 "nbformat": 4,
 "nbformat_minor": 0
}
